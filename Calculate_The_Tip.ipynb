{
  "nbformat": 4,
  "nbformat_minor": 0,
  "metadata": {
    "colab": {
      "name": "Calculate The Tip.ipynb",
      "provenance": []
    },
    "kernelspec": {
      "name": "python3",
      "display_name": "Python 3"
    },
    "language_info": {
      "name": "python"
    }
  },
  "cells": [
    {
      "cell_type": "markdown",
      "source": [
        "# TIP CALCULATION SYSTEM\n"
      ],
      "metadata": {
        "id": "2ebfZlZBG6YT"
      }
    },
    {
      "cell_type": "markdown",
      "source": [
        "## 18% TIP"
      ],
      "metadata": {
        "id": "GIjeXhmeHFBx"
      }
    },
    {
      "cell_type": "code",
      "execution_count": 47,
      "metadata": {
        "id": "vrD37Hbgz8WJ"
      },
      "outputs": [],
      "source": [
        "# 18% tip\n",
        "\n",
        "def eightteen_percent(total_bill):\n",
        "  eighteen_percent_tip = (18 * total_bill)/100\n",
        "  return eighteen_percent_tip\n"
      ]
    },
    {
      "cell_type": "markdown",
      "source": [
        "## 20% TIP"
      ],
      "metadata": {
        "id": "xOEO9vDWHIUB"
      }
    },
    {
      "cell_type": "code",
      "source": [
        "# 20% tip\n",
        "def twenty_percent(total_bill):\n",
        "  twenty_percent_tip = (20 * total_bill)/100\n",
        "  return twenty_percent_tip"
      ],
      "metadata": {
        "id": "l__PVg-v0LAg"
      },
      "execution_count": 48,
      "outputs": []
    },
    {
      "cell_type": "markdown",
      "source": [
        "## 25% TIP\n"
      ],
      "metadata": {
        "id": "I5t3Icx-HKPx"
      }
    },
    {
      "cell_type": "code",
      "source": [
        "# 25% tip\n",
        "def twenrt_five_percent(total_bill):\n",
        "  twenrt_five_percent_tip = (25 * total_bill)/100\n",
        "  return twenrt_five_percent_tip"
      ],
      "metadata": {
        "id": "3IrhJgDE0LHv"
      },
      "execution_count": 49,
      "outputs": []
    },
    {
      "cell_type": "markdown",
      "source": [
        "## Taking Input"
      ],
      "metadata": {
        "id": "yGrfJ9jSHUC_"
      }
    },
    {
      "cell_type": "code",
      "source": [
        "def take_input():\n",
        "  import sys\n",
        "  total_bill = float(input(\"What's the total bull for today, Please? $ \"))\n",
        "  number_of_person = int(input(\"Please Enter Number of Persons: \"))\n",
        "  contribute_list = []\n",
        "  for i in range(number_of_person):\n",
        "    print(\"Person {} will contribute in (percentage): \".format(i+1),end=\"\")\n",
        "    contribute_list.append(float(input()))\n",
        "\n",
        "  if(sum(contribute_list) == 100.0):\n",
        "\n",
        "    return total_bill, number_of_person, contribute_list\n",
        "  else:\n",
        "    print(\"\\n\\n --> NOTE: The sum of the contribution is not 100%. Please try again\\n\\n\")\n",
        "    sys.exit()"
      ],
      "metadata": {
        "id": "MU1UWG6V0LM3"
      },
      "execution_count": 50,
      "outputs": []
    },
    {
      "cell_type": "markdown",
      "source": [
        "## Welcome"
      ],
      "metadata": {
        "id": "c3lIwIDZHeHk"
      }
    },
    {
      "cell_type": "code",
      "source": [
        "def welcome():\n",
        "  print(\" \\n\\n*** WELCOME TO THE TIP CALCULATION SYSTEM ****\\n\\n\")"
      ],
      "metadata": {
        "id": "kVK8cn4n0LQJ"
      },
      "execution_count": 51,
      "outputs": []
    },
    {
      "cell_type": "markdown",
      "source": [
        "## Distributing the total bill (Inclulding the tip)"
      ],
      "metadata": {
        "id": "SZE7XKaGHXFR"
      }
    },
    {
      "cell_type": "code",
      "source": [
        "def distribute_bill(total_bill, number_of_person, eighteen_percent_tip, twenty_percent_tip, twenrt_five_percent_tip):\n",
        "  \n",
        "  print(\"\\n ## FOR 18% TIP: \")\n",
        "\n",
        "  for i in range(number_of_person):\n",
        "    print(\"Person {} will contribute (in $): \".format(i+1),end=\"\")\n",
        "    print((contribute_list[i] * (eighteen_percent_tip + total_bill))/100)\n",
        "\n",
        "  print(\"\\n ## FOR 20% TIP: \")\n",
        "\n",
        "  for i in range(number_of_person):\n",
        "    print(\"Person {} will contribute (in $): \".format(i+1),end=\"\")\n",
        "    print((contribute_list[i] * (twenty_percent_tip + total_bill))/100)\n",
        "\n",
        "  print(\"\\n ## FOR 25% TIP: \")\n",
        "\n",
        "  for i in range(number_of_person):\n",
        "    print(\"Person {} will contribute (in $): \".format(i+1),end=\"\")\n",
        "    print((contribute_list[i] * (twenrt_five_percent_tip + total_bill))/100)\n"
      ],
      "metadata": {
        "id": "CrW7pYKD9e5d"
      },
      "execution_count": 52,
      "outputs": []
    },
    {
      "cell_type": "markdown",
      "source": [
        "## Main Function"
      ],
      "metadata": {
        "id": "ls9XajFXHh_7"
      }
    },
    {
      "cell_type": "code",
      "source": [
        "if __name__ == \"__main__\":\n",
        "\n",
        "  welcome()\n",
        "  total_bill, number_of_person, contribute_list = take_input()\n",
        "  eighteen_percent_tip = eightteen_percent(total_bill)\n",
        "  twenty_percent_tip = twenty_percent(total_bill)\n",
        "  twenrt_five_percent_tip = twenrt_five_percent(total_bill)\n",
        "\n",
        "  print(\"\\n18% tip is ${}, which brings your total to ${} ≈ ${} [After Round Up]\".format(eighteen_percent_tip, (eighteen_percent_tip + total_bill), round(eighteen_percent_tip + total_bill)))\n",
        "  print(\"20% tip is ${}, which brings your total to ${} ≈ ${} [After Round Up]\".format(twenty_percent_tip, (twenty_percent_tip + total_bill), round(twenty_percent_tip + total_bill)))\n",
        "  print(\"25% tip is ${}, which brings your total to ${} ≈ ${} [After Round Up]\".format(twenrt_five_percent_tip, (twenrt_five_percent_tip + total_bill), round(twenrt_five_percent_tip + total_bill)))\n",
        "\n",
        "  distribute_bill(total_bill, number_of_person, eighteen_percent_tip, twenty_percent_tip, twenrt_five_percent_tip)"
      ],
      "metadata": {
        "id": "5ePbEWwl0LU1",
        "colab": {
          "base_uri": "https://localhost:8080/"
        },
        "outputId": "9180492b-903d-48b6-9dfb-4562ae308423"
      },
      "execution_count": 53,
      "outputs": [
        {
          "output_type": "stream",
          "name": "stdout",
          "text": [
            " \n",
            "\n",
            "*** WELCOME TO THE TIP CALCULATION SYSTEM ****\n",
            "\n",
            "\n",
            "What's the total bull for today, Please? $ 55.87\n",
            "Please Enter Number of Persons: 3\n",
            "Person 1 will contribute in (percentage): 30\n",
            "Person 2 will contribute in (percentage): 30\n",
            "Person 3 will contribute in (percentage): 40\n",
            "\n",
            "18% tip is $10.0566, which brings your total to $65.9266 ≈ $66 [After Round Up]\n",
            "20% tip is $11.174, which brings your total to $67.044 ≈ $67 [After Round Up]\n",
            "25% tip is $13.9675, which brings your total to $69.83749999999999 ≈ $70 [After Round Up]\n",
            "\n",
            " ## FOR 18% TIP: \n",
            "Person 1 will contribute (in $): 19.77798\n",
            "Person 2 will contribute (in $): 19.77798\n",
            "Person 3 will contribute (in $): 26.370639999999998\n",
            "\n",
            " ## FOR 20% TIP: \n",
            "Person 1 will contribute (in $): 20.1132\n",
            "Person 2 will contribute (in $): 20.1132\n",
            "Person 3 will contribute (in $): 26.8176\n",
            "\n",
            " ## FOR 25% TIP: \n",
            "Person 1 will contribute (in $): 20.951249999999995\n",
            "Person 2 will contribute (in $): 20.951249999999995\n",
            "Person 3 will contribute (in $): 27.934999999999995\n"
          ]
        }
      ]
    }
  ]
}